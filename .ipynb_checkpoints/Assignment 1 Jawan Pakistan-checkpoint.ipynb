{
 "cells": [
  {
   "cell_type": "code",
   "execution_count": 7,
   "id": "8637c361",
   "metadata": {
    "scrolled": true
   },
   "outputs": [
    {
     "name": "stdout",
     "output_type": "stream",
     "text": [
      "Twinkle,twinkle,little star,\n",
      "\t How I wonder what you are\n",
      "\t\t Up above the world so high,\n",
      "\t\t Like a diamond in the sky. \n",
      "Twinkle,twinkle,little star,\n",
      "\tHow I wonder what you are \n"
     ]
    }
   ],
   "source": [
    "print (\"Twinkle,twinkle,little star,\\n\\t How I wonder what you are\\n\\t\\t Up above the world so high,\\n\\t\\t Like a diamond in the sky. \\nTwinkle,twinkle,little star,\\n\\tHow I wonder what you are \")"
   ]
  },
  {
   "cell_type": "code",
   "execution_count": 1,
   "id": "9b649ed2",
   "metadata": {},
   "outputs": [
    {
     "name": "stdout",
     "output_type": "stream",
     "text": [
      "3.8.8 (default, Apr 13 2021, 15:08:03) [MSC v.1916 64 bit (AMD64)]\n"
     ]
    }
   ],
   "source": [
    "import sys\n",
    "print (sys.version)"
   ]
  },
  {
   "cell_type": "code",
   "execution_count": 15,
   "id": "39ff4bdf",
   "metadata": {},
   "outputs": [
    {
     "name": "stdout",
     "output_type": "stream",
     "text": [
      "2022-01-05 23:16:29.588370\n"
     ]
    }
   ],
   "source": [
    "#Qno3\n",
    "import datetime\n",
    "date_time = datetime.datetime.now()\n",
    "print (date_time)"
   ]
  },
  {
   "cell_type": "code",
   "execution_count": null,
   "id": "3d12854e",
   "metadata": {},
   "outputs": [],
   "source": [
    "#Qno4 Radius of circle\n",
    "import math\n",
    "a = int(input(\"Enter radius: \"))\n",
    "b = math.pi*a**2\n",
    "print (\"Area of circle is= \",b)"
   ]
  },
  {
   "cell_type": "code",
   "execution_count": null,
   "id": "3e8fe126",
   "metadata": {},
   "outputs": [],
   "source": [
    "#Qno5\n",
    "x=input(\"First Name: \")\n",
    "y=input(\"Last Name: \")\n",
    "print(y,x)"
   ]
  },
  {
   "cell_type": "code",
   "execution_count": null,
   "id": "d2a1a82f",
   "metadata": {},
   "outputs": [],
   "source": [
    "#Qno6\n",
    "a=int(input(\"Enter 1st number: \"))\n",
    "b=int(input(\"Enter 2nd number: \"))\n",
    "c=a+b\n",
    "print(\"Result= \",c)"
   ]
  },
  {
   "cell_type": "code",
   "execution_count": null,
   "id": "4c40f8a4",
   "metadata": {},
   "outputs": [],
   "source": []
  }
 ],
 "metadata": {
  "kernelspec": {
   "display_name": "Python 3",
   "language": "python",
   "name": "python3"
  },
  "language_info": {
   "codemirror_mode": {
    "name": "ipython",
    "version": 3
   },
   "file_extension": ".py",
   "mimetype": "text/x-python",
   "name": "python",
   "nbconvert_exporter": "python",
   "pygments_lexer": "ipython3",
   "version": "3.8.8"
  }
 },
 "nbformat": 4,
 "nbformat_minor": 5
}
